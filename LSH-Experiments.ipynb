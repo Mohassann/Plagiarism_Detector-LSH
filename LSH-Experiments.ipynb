{
 "cells": [
  {
   "cell_type": "markdown",
   "metadata": {},
   "source": [
    "# Plagiarism Detector \n",
    "### References are in the bottom "
   ]
  },
  {
   "cell_type": "markdown",
   "metadata": {},
   "source": [
    "Shingling + Jaccard Similarity + MiniHash was provided by:\n",
    "- https://github.com/elhamsharifi?tab=repositories. \n",
    "- https://github.com/vgole001/Count-Distinct-Items-using-Min-Hash-and-LSH/blob/master/MinHash_LSH.ipynb\n",
    "- https://github.com/daanknoors/LSH/blob/master/ItemSimilarity.py\n",
    "\n",
    "we changed most of the stuffs and tried not use their exact code, however, you mentioned that we can use the already implemented classes for Shingling + Jaccard Similarity + MiniHash"
   ]
  },
  {
   "cell_type": "code",
   "execution_count": 1,
   "metadata": {},
   "outputs": [],
   "source": [
    "from tqdm import tqdm, trange, tqdm_notebook \n",
    "import json\n",
    "import numpy as np\n",
    "import binascii\n",
    "from time import time\n",
    "from time import sleep\n",
    "from tqdm import tqdm\n",
    "from matplotlib.ticker import FuncFormatter\n",
    "import matplotlib.pyplot as plt\n",
    "import string\n",
    "from collections import defaultdict\n",
    "import random\n",
    "import pandas as pd\n",
    "import re\n",
    "import math\n"
   ]
  },
  {
   "cell_type": "code",
   "execution_count": 27,
   "metadata": {},
   "outputs": [
    {
     "name": "stdout",
     "output_type": "stream",
     "text": [
      "\n",
      "Wall time: 0 ns\n"
     ]
    }
   ],
   "source": [
    "%%time\n",
    "\n",
    "\n",
    "print(\"\")\n",
    "filename = \"C:/Users/Andria.m/Desktop/LSH test/Plagiarism_Detector-LSH/Our Data/News_1000.txt\"\n"
   ]
  },
  {
   "cell_type": "markdown",
   "metadata": {},
   "source": [
    "## 4.1 Pre-processing of data\n",
    "we are preprocessing all texts from the given documents. Transforming all the letters in lower case. We are doing tokenization meaning that each word becomes a token. Removing all Symbols. We are reading all the data and separated the news_id from the news body.\n",
    "- Read all of the words (they are all on one line) and split them by white space.\n",
    "- Retrieve the article ID, which is the first word on the line.  \n"
   ]
  },
  {
   "cell_type": "code",
   "execution_count": 11,
   "metadata": {},
   "outputs": [],
   "source": [
    "def Pre_Process_data(filename):\n",
    "\n",
    "    array_of_doc_tuples=[]\n",
    "    # read lines from filename\n",
    "    #with open((filename)) as fp:\n",
    "     #   for line in fp:\n",
    "        \n",
    "    f=open(filename,'r') \n",
    "    lines=f.readlines()\n",
    "    for line in lines:\n",
    "        \n",
    "    \n",
    "    # construct tuple of doc_Id and text\n",
    "            doc_Id = line.split(' ')[0]\n",
    "            text = str(line.split(' ')[1:])\n",
    "            \n",
    "    # process string as described above\n",
    "            for ch in string.punctuation:                                                                                                     \n",
    "                text=text.replace(ch, \"\")\n",
    "#                 print(text)\n",
    "            \n",
    "            text=text.lower()\n",
    "            text=text.replace(\"  \", \"\")\n",
    "            \n",
    "            tuples=(doc_Id,text)\n",
    "#           print(tuples)\n",
    "            array_of_doc_tuples.append(tuples)\n",
    "    \n",
    "    # return tuple with doc_Id and processed string\n",
    "            \n",
    "            print(array_of_doc_tuples)\n",
    "    return array_of_doc_tuples\n",
    "\n"
   ]
  },
  {
   "cell_type": "markdown",
   "metadata": {},
   "source": [
    "### Shingling\n",
    "Create a dictionary of the articles, mapping the Id (e.g.,\"470\") to the list of shingle IDs that appear in the document.\n",
    "- Construct the shingle text by combining three words together.\n",
    "- Hash the shingle to a 32-bit integer.\n",
    "- Add the hash value to the list of shingles for the current document. \n",
    "\n"
   ]
  },
  {
   "cell_type": "code",
   "execution_count": 17,
   "metadata": {},
   "outputs": [],
   "source": [
    "def shingle_document(string, k):\n",
    "    \n",
    "    # initialize set data structure\n",
    "    set_data_structure=set()\n",
    "    # for each position in string, extract substring of length k\n",
    "    \n",
    "    for i in range (len(string)-k+1):\n",
    "        substring_length_k=string[i:i+k]\n",
    "        \n",
    "    # hash into 32-bit integer\n",
    "        hash_substring=binascii.crc32( substring_length_k.encode())\n",
    "        \n",
    "    # insert into set\n",
    "        set_data_structure.add(hash_substring)\n",
    "    return (set_data_structure)\n"
   ]
  },
  {
   "cell_type": "markdown",
   "metadata": {},
   "source": [
    "## 4.2 Calculating Jaccard similarities \n",
    "We will directly calculate the Jaccard similarities by comparing the sets. Jaccard similarity in here is much slower than the MinHash approach.\n",
    "\n",
    "\n"
   ]
  },
  {
   "cell_type": "code",
   "execution_count": 21,
   "metadata": {},
   "outputs": [],
   "source": [
    "def jaccard(a, b):\n",
    "  # compute union size\n",
    "    union_size = len(set(a).union(set(b)))\n",
    "  # compute intersection size\n",
    "    intersection_size=len(set(a).intersection(set(b)))\n",
    "  \n",
    "    # another way \n",
    "    #     a = set(a)\n",
    "    #     b = set(b)\n",
    "    #     return (len(a.intersection(b)) / len(a.union(b)))\n",
    "\n",
    "\n",
    "    # return ratio of union and intersection\n",
    "    return 1.0*intersection_size/union_size\n",
    "\n"
   ]
  },
  {
   "cell_type": "markdown",
   "metadata": {},
   "source": [
    "### Putting everything together\n",
    "Computes the Minhash estimated similarities between each pair of documents"
   ]
  },
  {
   "cell_type": "code",
   "execution_count": 22,
   "metadata": {},
   "outputs": [],
   "source": [
    "\n",
    "pair_tuples=[]\n",
    "array_of_jaccard_tuples=[]\n",
    "\n",
    "def jaccard_of_documents(file_name, k):\n",
    "    \n",
    "    array_of_documents_tuples = Pre_Process_data(file_name)\n",
    "    array_of_jaccard_tuples=[]\n",
    "\n",
    "    for i in range(len(array_of_documents_tuples)):\n",
    "        for j in range (i+1, len(array_of_documents_tuples)):\n",
    "            \n",
    "            a = shingle_document( array_of_documents_tuples[i][1] , k )\n",
    "            b = shingle_document(array_of_documents_tuples[j][1], k)\n",
    "            jaccard_similarity = jaccard(a,b)\n",
    "            \n",
    "            # array_of_documents_tuples[i][0]  for the first doc_id eg. \"10\"\n",
    "            # array_of_documents_tuples[j][0]  for the second doc_id eg. \"1-1000\" comparing it with \"10\"\n",
    "            # jaccard_similarity = similarity score between 0 and 1, \n",
    "            jaccard_tuples = (array_of_documents_tuples[i][0],array_of_documents_tuples[j][0],jaccard_similarity)\n",
    "            \n",
    "            # similarity threshold is >0.80 => higher than 80% similarity\n",
    "            if jaccard_similarity>=0.80:\n",
    "                print (jaccard_tuples)\n",
    "                pair_tuples.append(jaccard_tuples)\n",
    "            array_of_jaccard_tuples+=[jaccard_tuples]\n",
    "            \n",
    "    return array_of_jaccard_tuples, jaccard_similarity"
   ]
  },
  {
   "cell_type": "markdown",
   "metadata": {},
   "source": [
    "### Generating ground-truth data \n",
    " Here we used the News_1000.txt which we found it online and contain 1000 articles "
   ]
  },
  {
   "cell_type": "code",
   "execution_count": null,
   "metadata": {},
   "outputs": [],
   "source": [
    "%%time\n",
    "\n",
    "array_of_jaccard_tuples=jaccard_of_documents(\"C:/Users/Andria.m/Desktop/LSH test/Plagiarism_Detector-LSH/Our Data/News_1000.txt\",10)"
   ]
  },
  {
   "cell_type": "markdown",
   "metadata": {},
   "source": [
    "### Bar plot\n",
    "- storing the candidate pairs that has a similarity > 0 , we use this to find the similar pairs to show them on the bar graph\n",
    "- after that, run the same code to get the higher candidate pairs that has a similarity than 80%, we use these tuples for the LSH later"
   ]
  },
  {
   "cell_type": "code",
   "execution_count": null,
   "metadata": {},
   "outputs": [],
   "source": [
    "%%time\n",
    "# print(pair_tuples)\n",
    "# print(pair_tuples[0][1])\n",
    "\n",
    "#shows the num of pairs\n",
    "print(len(pair_tuples),\"pairs\")\n",
    "\n",
    "doc1=[]\n",
    "doc2=[]\n",
    "similarity=[]\n",
    "for i in range (len(pair_tuples)):\n",
    "        docs = pair_tuples[i][0]\n",
    "        doc1.append(docs)\n",
    "        docs1 = pair_tuples[i][1]\n",
    "        doc2.append(docs1)\n",
    "                \n",
    "for i in range (len(pair_tuples)):\n",
    "    similar = 100 * pair_tuples[i][2]\n",
    "    similarity.append(similar)"
   ]
  },
  {
   "cell_type": "markdown",
   "metadata": {},
   "source": [
    "### exporting the similair pairs to a file which will be used later as ground-truth data for the LSH\n",
    "- Because it the jaccard similarity so we stored the similarity of the pairs also, but later we removed them when we used for the LSH.\n",
    "- If you don't want to export it, you can easily remove it from the jaccard_of_documents() line 16 last parameter"
   ]
  },
  {
   "cell_type": "code",
   "execution_count": null,
   "metadata": {},
   "outputs": [],
   "source": [
    "%%time\n",
    "# Write similar pair documents to a file\n",
    "with open('Candidate pairs.txt', 'w+') as fp:\n",
    "    fp.write('Similarity between documents using the Jaccard distance: \\n')\n",
    "    for sims in pair_tuples:\n",
    "        fp.write('\\t'.join('%s' % s for s in sims))\n",
    "        fp.write('')\n",
    "        fp.write('\\n')\n",
    "fp.close()"
   ]
  },
  {
   "cell_type": "raw",
   "metadata": {},
   "source": [
    "# plotting the points  \n",
    "sim = [x for x in np.arange(0, 100, 5)]\n",
    "# axis values \n",
    "x = sim\n",
    "y_show= np.arange(0,100,10)\n",
    "# print(y_show)\n",
    "\n",
    "y_value=doc1\n",
    "\n",
    "plt.bar(similarity,y_value,2)\n",
    "\n",
    "plt.xticks(x)\n",
    "\n",
    "plt.yticks(y_show,y_show)\n",
    "\n",
    "\n",
    "# naming the x axis \n",
    "plt.xlabel('similarity') \n",
    "\n",
    "# naming the y axis \n",
    "plt.ylabel('Num of Docs') \n",
    "\n",
    "plt.rcParams['figure.figsize'] = [18,14]\n",
    "\n",
    "plt.grid()\n",
    "# function to show the plot \n",
    "plt.show()\n"
   ]
  },
  {
   "cell_type": "markdown",
   "metadata": {},
   "source": [
    "### Using both pair_tuples and similarity to plot the similarities of two docs"
   ]
  },
  {
   "cell_type": "code",
   "execution_count": null,
   "metadata": {},
   "outputs": [],
   "source": [
    "%%time\n",
    "# plotting the points  \n",
    "sim = [x for x in np.arange(0, 100, 5)]\n",
    "# axis values \n",
    "x = sim\n",
    "y_show= np.arange(0,100,10)\n",
    "\n",
    "# print(y_show)\n",
    "\n",
    "y_value=doc1\n",
    "plt.bar(similarity,y_value,2)\n",
    "\n",
    "plt.xticks(x)\n",
    "plt.yticks(y_show,y_show)\n",
    "# naming the x axis \n",
    "plt.xlabel('similarity') \n",
    "# naming the y axis \n",
    "plt.ylabel('Num of Docs') \n",
    "\n",
    "plt.rcParams['figure.figsize'] = [18,15]\n",
    "plt.grid()\n",
    "# function to show the plot \n",
    "plt.show()\n"
   ]
  },
  {
   "cell_type": "markdown",
   "metadata": {},
   "source": [
    "## 4.3 Effect of the k-Shingles on Jaccard similarity (choosing k value) \n",
    "- First we read the Candidate pairs.txt to see what documents are similiar. \n",
    "- then generate a set of non plagiarized documents, we look at theCandidate pairs.txt and we choose all of them one by one. Then randomly pick another document and check that this document shouldn't be part of the Candidate pairs.txt. \n",
    "- So this way we generate a set of non_plagiarized documents and they are twice as many as plagiarized documents.\n",
    "\n",
    "[plagiarized_non_plagiarized_instances, jaccard_similarity_plagiarized_non_plagiarized] were ready classes implemented by https://github.com/elhamsharifi?tab=repositories. \n",
    "we changed some of the variables to get a correct output."
   ]
  },
  {
   "cell_type": "code",
   "execution_count": 5,
   "metadata": {},
   "outputs": [],
   "source": [
    "%%time\n",
    "def plagiarized_non_plagiarized_instances(file_name1,file_name2):\n",
    "    import random\n",
    "    f=open(file_name2,'r') \n",
    "    plagiarized_instances=[]\n",
    "    non_plagiarized_instances=[]\n",
    "    lines=f.readlines()\n",
    "    \n",
    "    for line in lines:\n",
    "        # construct tuple of id and text\n",
    "        first_doc = line.split(' ')[0]\n",
    "        second_doc = line.split(' ')[1].strip()\n",
    "        truth_tuples=(first_doc,second_doc)    \n",
    "            \n",
    "        plagiarized_instances.append(truth_tuples)\n",
    "        \n",
    "    array_of_documents_tuples=Pre_Process_data (file_name1)\n",
    "    num_doc=len(array_of_documents_tuples)\n",
    "\n",
    "    list_truth=[]\n",
    "    for i,j in plagiarized_instances:\n",
    "        list_truth.append(i)\n",
    "        list_truth.append(j)   \n",
    "        \n",
    "    for i in list_truth:\n",
    "    \n",
    "        j=array_of_documents_tuples[random.randint(0,num_doc)][0] \n",
    "    \n",
    "        while j in list_truth:\n",
    "            j=array_of_documents_tuples[random.randint(0,num_doc)][0]\n",
    "        instance=(i,j)  \n",
    "        non_plagiarized_instances.append(instance)\n",
    "        \n",
    "        \n",
    "        \n",
    "    return plagiarized_instances, non_plagiarized_instances"
   ]
  },
  {
   "cell_type": "code",
   "execution_count": 23,
   "metadata": {},
   "outputs": [],
   "source": [
    "%%time\n",
    "\n",
    "def jaccard_similarity_plagiarized_non_plagiarized(file_name1,file_name2,k):\n",
    "    \n",
    "    array_of_documents_tuples=Pre_Process_data (file_name1)\n",
    "    docids=[]\n",
    "    \n",
    "    for i in range(len (array_of_documents_tuples) ):\n",
    "        \n",
    "        docids.append(array_of_documents_tuples[i][0])\n",
    "    # using the plagiarized_non_plagiarized_instances() class\n",
    "    plagiarized_instances, non_plagiarized_instances = plagiarized_non_plagiarized_instances (file_name1,file_name2)\n",
    "    \n",
    "    # for plagiarized docs\n",
    "    similarity_plagiarized=[]\n",
    "    for i,j in plagiarized_instances:\n",
    "        \n",
    "        index_id1 = docids.index(i)\n",
    "        index_id2 = docids.index(j)\n",
    "        \n",
    "        a = shingle_document(array_of_documents_tuples[index_id1][1], k)\n",
    "        b = shingle_document(array_of_documents_tuples[index_id2][1], k)\n",
    "        \n",
    "        similarity_plagiarized.append(jaccard(a,b))\n",
    "       \n",
    "    ave_similarity_plagiarized = np.average(similarity_plagiarized)\n",
    "    \n",
    "    \n",
    "    # for non plagiarized docs\n",
    "    similarity_non_plagiarized = []\n",
    "    \n",
    "    for i,j in non_plagiarized_instances:\n",
    "        \n",
    "        index_id1 = docids.index(i)\n",
    "        index_id2 = docids.index(j)\n",
    "        \n",
    "        a = shingle_document(array_of_documents_tuples[index_id1][1], k)\n",
    "        b = shingle_document(array_of_documents_tuples[index_id2][1], k)\n",
    "        \n",
    "        similarity_non_plagiarized.append(jaccard(a,b))\n",
    "       \n",
    "    ave_similarity_non_plagiarized = np.average(similarity_non_plagiarized)\n",
    "    \n",
    "    return ave_similarity_plagiarized, ave_similarity_non_plagiarized\n",
    "\n"
   ]
  },
  {
   "cell_type": "markdown",
   "metadata": {},
   "source": [
    "### Plotting the effect of the k-Shingles (k Values are betwwen 0, 100 ) on Jaccard similarity "
   ]
  },
  {
   "cell_type": "code",
   "execution_count": null,
   "metadata": {},
   "outputs": [],
   "source": [
    "%%time\n",
    "\n",
    "%matplotlib inline\n",
    "file_name1=\"C:/Users/Andria.m/Desktop/LSH test/Plagiarism_Detector-LSH/Our Data/News_1000.txt\"\n",
    "file_name2=\"C:/Users/Andria.m/Desktop/LSH test/Plagiarism_Detector-LSH/Our Data/Candidate pairs.txt\"\n",
    "set_ave_similarity_plagiarized=[]\n",
    "set_ave_similarity_non_plagiarized=[]\n",
    "set_k=[]\n",
    "for k in range (1, 101,4):\n",
    "\n",
    "    ave_similarity_plagiarized, ave_similarity_non_plagiarized=jaccard_similarity_plagiarized_non_plagiarized(file_name1,file_name2,k)\n",
    "    set_ave_similarity_plagiarized.append(ave_similarity_plagiarized)\n",
    "    set_ave_similarity_non_plagiarized.append(ave_similarity_non_plagiarized)\n",
    "    set_k.append(k)\n",
    "    \n",
    "plt.plot(set_k,set_ave_similarity_plagiarized)    \n",
    "plt.plot(set_k,set_ave_similarity_non_plagiarized)  \n",
    "plt.legend(['Plagiarism Instances', 'Non-plagiarism Instances'],loc=5)\n",
    "plt.xlabel('Shingling Length K')\n",
    "plt.ylabel('Jaccard Similarity')\n",
    "plt.title('Jaccard Similarity vs. Shingling Length K for Plagiarized and Non-plagiarized Documents')"
   ]
  },
  {
   "cell_type": "markdown",
   "metadata": {},
   "source": [
    "### Inverted Shingles\n",
    "$Invert$_$shingles$ + $MiniHash$ was provided by:\n",
    "- https://github.com/elhamsharifi?tab=repositories. \n",
    "- https://github.com/vgole001/Count-Distinct-Items-using-Min-Hash-and-LSH/blob/master/MinHash_LSH.ipynb\n",
    "- https://github.com/daanknoors/LSH/blob/master/ItemSimilarity.py"
   ]
  },
  {
   "cell_type": "code",
   "execution_count": null,
   "metadata": {},
   "outputs": [],
   "source": [
    "%%time\n",
    "\n",
    "def invert_shingles(shingled_documents):\n",
    "  # initialize list for tuples\n",
    "    list_of_tuples = []\n",
    "  # initialize list for document ids\n",
    "    list_of_documentid = []\n",
    "  # for each document in input\n",
    "    for shingled_document in shingled_documents:\n",
    "    # append document id to list\n",
    "        list_of_documentid.append(shingled_document[0])\n",
    "    # for each item in document\n",
    "        for item in shingled_document[1]:\n",
    "      # append (item, docid) tuple\n",
    "            list_of_tuples.append((item,shingled_document[0]))\n",
    "  \n",
    "  # sort tuple list\n",
    "    list_of_tuples.sort()\n",
    "  # return sorted tuple list, and document list\n",
    "    return list_of_tuples, list_of_documentid\n",
    "\n",
    "\n",
    "def shingles_of_documents (file_name,k):\n",
    "    array_of_documents_tuples= Pre_Process_data(file_name)\n",
    "    \n",
    "    tuple_shingled_documents=[]\n",
    "    for i in range(len(array_of_documents_tuples)):\n",
    "        a=shingle_document(array_of_documents_tuples[i][1], k)\n",
    "        shingled_documents=(array_of_documents_tuples[i][0],a)    \n",
    "        \n",
    "        tuple_shingled_documents+=[shingled_documents]   \n",
    "    \n",
    "    return tuple_shingled_documents\n"
   ]
  },
  {
   "cell_type": "markdown",
   "metadata": {},
   "source": [
    "### 4.4 Generating random hash functions"
   ]
  },
  {
   "cell_type": "code",
   "execution_count": 6,
   "metadata": {},
   "outputs": [
    {
     "name": "stdout",
     "output_type": "stream",
     "text": [
      "340185542\n"
     ]
    }
   ],
   "source": [
    "%%time\n",
    "def make_random_hash_fn(p=2**33-355, m=4294967295):\n",
    "    a = random.randint(1,p-1)\n",
    "    b = random.randint(0, p-1)\n",
    "    return lambda x: ((a * x + b) % p) % m\n",
    "\n",
    "\n",
    "hash_fn = make_random_hash_fn()\n",
    "print(hash_fn(8))\n",
    "\n",
    "def make_hashes(num_hashes):\n",
    "    list_of_hash_fn=[]\n",
    "    for i in range(num_hashes):\n",
    "        list_of_hash_fn.append(make_random_hash_fn())\n",
    "        \n",
    "    return list_of_hash_fn   "
   ]
  },
  {
   "cell_type": "markdown",
   "metadata": {},
   "source": [
    "# 4.5 MinHash\n",
    "The idea behind MinHashing is that given two documents $S_1$, $S_2$, then $Pr[h_{min}(S_1) = h_{min}(S_2)] = J(S_1, S_2)$. Therefore, the expeced similarity of two signatures is the Jaccard similarity of the two docs.\n",
    "Comparing all possible pairs of k-shingles of docs for large number of docs can take a very long time or become totally incomputable. \n",
    "Therefore, we use MinHash algorithm which creates a unique hash of fixed length (from a number of hash functions n) so all documents get a signature of length n.\n",
    "- again provided by the mentioned references, with some changes."
   ]
  },
  {
   "cell_type": "code",
   "execution_count": 28,
   "metadata": {},
   "outputs": [
    {
     "name": "stdout",
     "output_type": "stream",
     "text": [
      "Wall time: 0 ns\n"
     ]
    }
   ],
   "source": [
    "%%time\n",
    "#  we set all the numbers in minhash signature matrix to infinity and we update the matrix.\n",
    "# The inputs are shingled data and number of hashes. \n",
    "# we get the minhash signature and also the documents id's as an output\n",
    "\n",
    "def make_minhash_signature(shingled_data, num_hash):\n",
    "    inv_index, docids = invert_shingles(shingled_data)\n",
    "    num_docs = len(docids)\n",
    "  \n",
    "  # initialize the signature matrix with infinity in every entry\n",
    "    sigmatrix = np.full([num_hash, num_docs], np.inf)\n",
    "    \n",
    "  # generate hash functions\n",
    "    hash_funcs = make_hashes(num_hash)\n",
    "  \n",
    "  # iterate over each non-zero entry of the characteristic matrix\n",
    "    \n",
    "    for row, docid in inv_index:\n",
    "    # update signature matrix if needed \n",
    "    # THIS IS WHAT YOU NEED TO IMPLEMENT\n",
    "        \n",
    "    \n",
    "        for row1 in range(num_hash):\n",
    "            sigmatrix[row1,docids.index(docid)]=min(sigmatrix[row1,docids.index(docid)],hash_funcs[row1](row))\n",
    "        \n",
    "        \n",
    "        \n",
    "    return sigmatrix, docids\n",
    "\n"
   ]
  },
  {
   "cell_type": "code",
   "execution_count": null,
   "metadata": {},
   "outputs": [],
   "source": [
    "%%time\n",
    "# doc_id1, doc_id2: document ids\n",
    "# minhash_sigmat: minhash signature matrix\n",
    "# docids: list of document ids, used to index the columns of the minhash signature matrix\n",
    "\n",
    "\n",
    "def minhash_similarity(id1, id2, minhash_sigmat, docids):\n",
    "  # get column of the similarity matrix for the two documents\n",
    "    index_id1=docids.index(id1)\n",
    "    index_id2=docids.index(id2)\n",
    "    \n",
    "  # calculate the fraction of rows where two columns match\n",
    "    minhash_similarity_estimate= np.mean(minhash_sigmat[:, index_id1]==minhash_sigmat[:, index_id2])\n",
    "    \n",
    "  # return this fraction as the minhash similarity estimate\n",
    "    return minhash_similarity_estimate \n",
    "\n",
    "# Output: Jaccard similarity estimated using minhash\n"
   ]
  },
  {
   "cell_type": "markdown",
   "metadata": {},
   "source": [
    "### Putting everything together"
   ]
  },
  {
   "cell_type": "code",
   "execution_count": null,
   "metadata": {},
   "outputs": [],
   "source": [
    "%%time\n",
    "# The inputs are shingled documents and number of hashes. \n",
    "# The output is list of similar documents.\n",
    "# The threshhold is 0.8   \n",
    "\n",
    "def minhash_similar_of_documents(shingles,num_hash):\n",
    " \n",
    "    \n",
    "    array_of_minhash_similar_tuples=[]\n",
    "    \n",
    "    list_of_tuples, list_of_documentid=invert_shingles(shingles)    \n",
    "    minhash_sigmat,list_of_documentid=make_minhash_signature(shingles, num_hash)\n",
    "    \n",
    "    for i in range(len(shingles)):\n",
    "        for j in range (i+1, len(shingles)):\n",
    "                        \n",
    "            minhash_similar=minhash_similarity(shingles[i][0], shingles[j][0], minhash_sigmat, list_of_documentid)\n",
    "            \n",
    "            \n",
    "            \n",
    "            minhash_tuples = (shingles[i][0], shingles[j][0],minhash_similar)\n",
    "            \n",
    "            if minhash_similar>=0.8:\n",
    "                \n",
    "                array_of_minhash_similar_tuples+=[minhash_tuples]\n",
    "                \n",
    "            \n",
    "    return array_of_minhash_similar_tuples"
   ]
  },
  {
   "cell_type": "code",
   "execution_count": null,
   "metadata": {},
   "outputs": [],
   "source": []
  },
  {
   "cell_type": "code",
   "execution_count": null,
   "metadata": {},
   "outputs": [],
   "source": []
  },
  {
   "cell_type": "markdown",
   "metadata": {},
   "source": [
    "## 4.6 Locality-Sensitive Hashing\n",
    "#### We implemented this class with the help of the mentioned references\n",
    "- This function chooses the number of bands for LSH based on given a similarity threshold.\n"
   ]
  },
  {
   "cell_type": "markdown",
   "metadata": {},
   "source": [
    "### Checking effect of the Similarity threshold on the number of b and r\n",
    "- first element of each of the sets in the list is number of bands\n",
    "- second element of each of the sets in the list is number of rows per band\n",
    "- b_r list = [(2,50),(50,2),(10,10),(5,20),(20,5),(50,20),(20,50)]"
   ]
  },
  {
   "cell_type": "code",
   "execution_count": 29,
   "metadata": {},
   "outputs": [
    {
     "name": "stdout",
     "output_type": "stream",
     "text": [
      "Wall time: 283 ms\n"
     ]
    },
    {
     "data": {
      "text/plain": [
       "<matplotlib.lines.Line2D at 0x25bed783c08>"
      ]
     },
     "execution_count": 29,
     "metadata": {},
     "output_type": "execute_result"
    },
    {
     "data": {
      "image/png": "[encoded data removed]",
      "text/plain": [
       "<Figure size 432x288 with 1 Axes>"
      ]
     },
     "metadata": {
      "needs_background": "light"
     },
     "output_type": "display_data"
    }
   ],
   "source": [
    "%%time\n",
    "# b=[2,50,10,5,20,50,20]\n",
    "# r=[50,2,10,20,5,20,50]\n",
    "\n",
    "\n",
    "thresh = np.arange(0,1.0,0.005)\n",
    "br_lst = [(2,50),(50,2),(10,10),(5,20),(20,5),(50,20),(20,50)]\n",
    "ax = None\n",
    "for k in br_lst:\n",
    "  p=[];b=k[0];r=k[1]\n",
    "  for t in thresh:\n",
    "    p.append(1-(1-(t**b))**r)\n",
    "    \n",
    "  df = pd.DataFrame({'Column1':p, 'Column2':thresh})\n",
    "  ax = df.plot(ax=ax,x='Column2',y='Column1')\n",
    "#   plt.rcParams['figure.figsize'] = [10,10]\n",
    "ax.axvline(x=0.8,color='b')\n",
    "ax.axhline(y=0.9,color='b')"
   ]
  },
  {
   "cell_type": "markdown",
   "metadata": {},
   "source": [
    "## Tuning Parameter \n",
    "Testing different values for \n",
    "- shingles length k\n",
    "- hash function numbers,  hash_num = r * b\n",
    "- band numbers b \n",
    "- row numbers r,  r = hash_num / bands_num\n",
    "- similarity threshold can be calculated using s = (1/bands_num)^(1/rows)\n",
    "- but we selected the 0.8 as it was given in the assignmnet's requirements\n",
    "\n",
    "We also calculated the Chanse of False Negative in 80% Similarity and Chanse of False Positive in 50% Similarity."
   ]
  },
  {
   "cell_type": "code",
   "execution_count": 30,
   "metadata": {},
   "outputs": [
    {
     "name": "stdout",
     "output_type": "stream",
     "text": [
      "Bands num:  10 , rows/band:  5 , threshold s:  0.8\n",
      "Prob. that at least 1 band is identical:  0.9811\n",
      "-------------------------------------------------------------\n",
      "Chance of False Negative in 80% Similarity:  0.0189  =>  1.887 %\n",
      "\n",
      "Chance of False Positive in 50% Similarity:  0.272  =>  27.2 %\n",
      "\n",
      "Wall time: 999 µs\n"
     ]
    }
   ],
   "source": [
    "%%time\n",
    "# Files for Locality Sensitive Hashing Similarity Part\n",
    "# 1-(1-0.80^r)^b = 0.99\n",
    "\n",
    "shingles_len = 10\n",
    "hash_num = 50\n",
    "bands_num = 10\n",
    "rows = int(hash_num / bands_num)\n",
    "# s = (1/bands_num)**(1/rows)\n",
    "s = 0.80\n",
    "\n",
    "print(\"Bands num: \",bands_num,', rows/band: ',rows,\", threshold s: \",s)\n",
    "a=s**rows\n",
    "x=(1-a)**bands_num\n",
    "prob=round(1-x,4)\n",
    "print(\"Prob. that at least 1 band is identical: \",prob)\n",
    "print(\"-------------------------------------------------------------\")\n",
    "print(\"Chance of False Negative in 80% Similarity: \",round(x,4),\" => \",round(100*x,3),\"%\")\n",
    "print()\n",
    "\n",
    "s1=0.5\n",
    "a=s1**rows\n",
    "x=(1-a)**bands_num\n",
    "prob2=round(1-x,4)\n",
    "print(\"Chance of False Positive in 50% Similarity: \",round(prob2,4),\" => \",round(100*prob2,3),\"%\")\n",
    "print()\n",
    "\n"
   ]
  },
  {
   "cell_type": "markdown",
   "metadata": {},
   "source": [
    "### Setting the values for the parameters  "
   ]
  },
  {
   "cell_type": "code",
   "execution_count": 67,
   "metadata": {},
   "outputs": [
    {
     "name": "stdout",
     "output_type": "stream",
     "text": [
      "Threshold:  0.99\n",
      "rows:  5\n",
      "bands:  10\n",
      "Wall time: 982 µs\n"
     ]
    }
   ],
   "source": [
    "%%time\n",
    "# set the parameters \n",
    "# we use this function later \n",
    "\n",
    "def num_bands_rows(threshold, num_hashes):\n",
    "    b = 10\n",
    "    r = int(num_hashes / b)\n",
    "    s = (1/b)**(1/r)\n",
    "    return b, s\n",
    "\n",
    "print(\"Threshold: \",round(s,5))\n",
    "print(\"rows: \",r)\n",
    "print(\"bands: \",b)"
   ]
  },
  {
   "cell_type": "markdown",
   "metadata": {},
   "source": [
    "### We used  hash_num = 50, b = 10, r = 5, s = 0.8, k = 10\n",
    "we tried different values like b=7 and r=5, b=10 and r=10, and b=5 and r=2 but we were getting alot of false negative, therefore the b = 10, r = 5 was a perfect choice, also b = 20, r = 6 was another good option, but the b = 20 need more time to compute and for the larger data jupyter crashed, therefore we chose  b = 10, r = 5."
   ]
  },
  {
   "cell_type": "code",
   "execution_count": 22,
   "metadata": {},
   "outputs": [
    {
     "data": {
      "image/png": "[encoded data removed]",
      "text/plain": [
       "<Figure size 432x288 with 1 Axes>"
      ]
     },
     "metadata": {
      "needs_background": "light"
     },
     "output_type": "display_data"
    },
    {
     "data": {
      "image/png": "[encoded data removed]",
      "text/plain": [
       "<Figure size 432x288 with 1 Axes>"
      ]
     },
     "metadata": {
      "needs_background": "light"
     },
     "output_type": "display_data"
    },
    {
     "name": "stdout",
     "output_type": "stream",
     "text": [
      "Wall time: 442 ms\n"
     ]
    }
   ],
   "source": [
    "%%time\n",
    "\n",
    "b = 10\n",
    "r = 5\n",
    "prob = []\n",
    "sim = [x for x in np.arange(0.2, 1.0, 0.01)]\n",
    "for s in sim:\n",
    "    prob.append((1-pow((1-pow(s,r)),b)))\n",
    "\n",
    "\n",
    "# axis values \n",
    "x = sim\n",
    "y = prob\n",
    "  \n",
    "# plotting the points  \n",
    "plt.plot(x, y) \n",
    "plt.axvline(x=0.8,color='r')\n",
    "plt.axhline(y=1.0,color='r')\n",
    "# naming the x axis \n",
    "plt.xlabel('similarity') \n",
    "# naming the y axis \n",
    "plt.ylabel('probability') \n",
    "plt.grid() \n",
    "# function to show the plot \n",
    "plt.show()\n",
    "# plt.rcParams['figure.figsize'] = [10,10]\n",
    "\n",
    "\n",
    "\n",
    "prob = []\n",
    "sim = [x for x in np.arange(0.2, 1.0, 0.01)]\n",
    "for s in sim:\n",
    "    prob.append((1-pow((1-pow(s,r)),b)))\n",
    "\n",
    "x = sim\n",
    "y = prob\n",
    "\n",
    "fig, ax = plt.subplots()\n",
    "ax.scatter(x, y, label='data_noisy')\n",
    "ax.set_title('estimated Jaccard')\n",
    "ax.set_xlabel('Similarity') \n",
    "ax.set_ylabel('Probability')\n",
    "ax.grid()\n",
    "leg = ax.legend()\n",
    "\n",
    "plt.show()\n",
    "# plt.rcParams['figure.figsize'] = [10,10]"
   ]
  },
  {
   "cell_type": "code",
   "execution_count": 68,
   "metadata": {},
   "outputs": [
    {
     "name": "stdout",
     "output_type": "stream",
     "text": [
      "Wall time: 0 ns\n"
     ]
    }
   ],
   "source": [
    "%%time\n",
    "# this was an effective class provided by one of the references\n",
    "# for each band we hash the r hash values for each document. \n",
    "# We can use this function to generate a hash function for vectors.\n",
    "\n",
    "\n",
    "def hash_vector (num_hashes, m=4294967295):\n",
    "    hashh = make_hashes(num_hashes)\n",
    "    def function_h(vector):\n",
    "      acc = 0\n",
    "      for i in range(len(vector)):\n",
    "        h = hashh [i]\n",
    "        acc += h(vector[i])\n",
    "        return acc % m\n",
    "    return function_h"
   ]
  },
  {
   "cell_type": "markdown",
   "metadata": {},
   "source": [
    "### Computing LSH"
   ]
  },
  {
   "cell_type": "code",
   "execution_count": 70,
   "metadata": {},
   "outputs": [
    {
     "name": "stdout",
     "output_type": "stream",
     "text": [
      "Wall time: 0 ns\n"
     ]
    }
   ],
   "source": [
    "%%time\n",
    "\n",
    "# try:\n",
    "#     del lsh_hashes\n",
    "# except:\n",
    "#     pass\n",
    "\n",
    "\n",
    "# lsh_hashes = []\n",
    "# for i in range(b):\n",
    "#     lsh_hashes.append({})\n",
    "\n",
    "#     for j in range(total_docs):\n",
    "\n",
    "#         col_band = signature_df.loc[i*r:(i+1)*r-1, \"Doc\"+str(j+1)]\n",
    "#         col_int = int(\"\".join([str(int(x)) for x in list(col_band)]))\n",
    "        \n",
    "#         hash_output = hash_row(*lsh_hash_values[i], col_int, num_buckets)\n",
    "        \n",
    "#         if hash_output in lsh_hashes[i]:\n",
    "#             lsh_hashes[i][hash_output].update([\"Doc\"+str(j+1)])\n",
    "#         else:\n",
    "#             lsh_hashes[i][hash_output] = set([\"Doc\"+str(j+1)])\n",
    "\n",
    "# candidate_pairs = []\n",
    "#print(lsh_hashes)\n",
    "\n",
    "# for lsh_hash in lsh_hashes:\n",
    "\n",
    "#     for k,v in lsh_hash.items():\n",
    "\n",
    "#         if len(v) > 1:\n",
    "#             candidate_pairs.append(tuple(sorted(list(v))))\n",
    "\n",
    "\n",
    "# candidate_pairs = set(candidate_pairs)   \n",
    "\n",
    "# print(\" Candidate pairs are \")\n",
    "\n",
    "# [print(x) for x in candidate_pairs]\n",
    "\n",
    "\n",
    "\n",
    "def Locality_sensitive_hashing(minhash_sigmatrix, numhashes, docids, threshold):\n",
    "    \n",
    "#     b = 10\n",
    "#     r = 5\n",
    "#     doc_id = row[0]\n",
    "#     hash_funct = hashFamily(1)\n",
    "#     out = []\n",
    "\n",
    "\n",
    "#  calling num_bands_rows()\n",
    "\n",
    "  b, _ = num_bands_rows(threshold, numhashes)\n",
    "  r = int( numhashes / b)\n",
    "    \n",
    "  num_of_articles = len(docids)\n",
    "# calling hash_vector()\n",
    "  hash_func = hash_vector(r)\n",
    "\n",
    "\n",
    "  buckets = []\n",
    "    \n",
    "  for band in range(b):\n",
    "    beginnig = int (band * r)\n",
    "    ending= min ( beginnig + r, numhashes)\n",
    "    \n",
    "    this_buckets = defaultdict(list)\n",
    "    \n",
    "    \n",
    "    \n",
    "    \n",
    "    for x in range(num_of_articles):\n",
    "#      The hash function of the r rows for each document make a key in the dictionary.\n",
    "#      If the other documents in that band make the same hash function \n",
    "#      so that document also belong to that key and then the two documents are put in the same bucket.\n",
    "        key_value = hash_func ( minhash_sigmatrix [beginnig : ending ,x ] )\n",
    "        single_bucket_dictinary = { key_value :( docids [x] , ) }\n",
    "        \n",
    "        \n",
    "        \n",
    "        for key in single_bucket_dictinary:\n",
    "            if key in this_buckets:\n",
    "                this_buckets[key]+=(single_bucket_dictinary[key])\n",
    "            else:\n",
    "                this_buckets[key]=single_bucket_dictinary[key]\n",
    "         \n",
    "    buckets.append(this_buckets)\n",
    "  \n",
    "  return buckets\n",
    "\n",
    "\n",
    "# The reduce step will then be a simple groupByKey() and will give us key=(band_id, bucket),value=list of candidates\n",
    "# Note: an additional map is performed to transform iterable object to list \n",
    "\n",
    "\n",
    "# def map_buckets(row):\n",
    "    \n",
    "\n",
    "#     for i in range(0,band_nr):\n",
    "#         band_id = i\n",
    "#         idx = i*row_nr   \n",
    "#         set_col = ' '.join(str(x) for x in doc_sign[idx:idx+row_nr])\n",
    "#         bucket = hash_funct.get_hash_value(set_col)\n",
    "#         out.append( ( (band_id, bucket), doc_id)  )\n",
    "    #since we are going to return multiple tuple we call flatMap() and return an iterator on those tuple\n",
    "\n",
    "#     return iter(out) \n",
    "\n",
    " #the map() is used to convert iterator to a list   \n",
    "# candidates = sig_matrix.flatMap(map_buckets).groupByKey().map(lambda x : (x[0], list(x[1]))) \n",
    "\n",
    "\n",
    "\n"
   ]
  },
  {
   "cell_type": "code",
   "execution_count": 71,
   "metadata": {},
   "outputs": [
    {
     "name": "stdout",
     "output_type": "stream",
     "text": [
      "Wall time: 0 ns\n"
     ]
    }
   ],
   "source": [
    "%%time\n",
    "# This function uses the result of our LSH function and returns list of candidate article pairs\n",
    "# we dont check if the candidates similarity are bigger than s = 0.8\n",
    "# we are only reading bucket values and combine them \n",
    "\n",
    "def Candidate_Similar_Docs(buckets):\n",
    "    \n",
    "    candidate_pairs = []\n",
    "    # lsh_similar = []\n",
    "\n",
    "# for candidate_pair in candidate_pairs:\n",
    "#         file1 = int(candidate_pair[0][3:])-1\n",
    "#         file2 = int(candidate_pair[1][3:])-1\n",
    "\n",
    "    \n",
    "    for value in range(len(buckets)):\n",
    "        \n",
    "        for key in buckets [value]:\n",
    "            \n",
    "#             if there is more than one document in each bucket \n",
    "#             it makes a combination of those documents as similar documents.\n",
    "\n",
    "            if len(buckets[value][key])>1:\n",
    "                \n",
    "                for i in range(len (buckets[value][key])-1):\n",
    "                    \n",
    "                    candidates = (buckets [value][key][i] , buckets[value][key][i+1] )\n",
    "                    candidate_pairs.append(candidates)\n",
    "                    \n",
    "#         sim = np.sum(signature_df[candidate_pair[0]] == signature_df[candidate_pair[1]])/num_hash_fn\n",
    "        #print(sim)\n",
    "\n",
    "#         if sim >= minhash_threshold :\n",
    "#               lsh_similar.append((filenames[file1],filenames[file2],sim))\n",
    "#         j += 1  \n",
    "                    \n",
    "#     list of tuples (docid1, docid2)  based on LSH  \n",
    "    return candidate_pairs    \n",
    "\n",
    "\n"
   ]
  },
  {
   "cell_type": "code",
   "execution_count": 74,
   "metadata": {},
   "outputs": [],
   "source": [
    "# finds the plagiarized articles \n",
    "# It uses the candidate_pairs lists that is generated in the Candidate_Similar_Docs() class\n",
    "# and check the minhash_similarity of the candidates in the minhash signature matrix  \n",
    "# if it's higher than 80% (s=0.8) it will choose as plagiarized articles\n",
    "\n",
    "similar_docs = []\n",
    "\n",
    "def find_Similar_docs (file_name,k,num_hashes,threshold):\n",
    "        \n",
    "#   calling shingles_of_documents() class\n",
    "    shingles = shingles_of_documents(file_name,k)\n",
    "    \n",
    "\n",
    "#   calling make_minhash_signature() class\n",
    "    minhash_sigmat,list_of_documentid=make_minhash_signature(shingles, num_hashes)\n",
    "    \n",
    "#   compute Locality_sensitive_hashing\n",
    "    buckets = Locality_sensitive_hashing(minhash_sigmat, num_hashes, list_of_documentid, threshold)\n",
    "    \n",
    "#   retreive the candidate lists that are generated by Candidate_Similar_Docs() class\n",
    "    candidate_list = Candidate_Similar_Docs(buckets)\n",
    "    \n",
    "    \n",
    "    for i,j in candidate_list:\n",
    "        \n",
    "        if (i,j) not in similar_docs:\n",
    "  # if candidates has a similarity which is higher than 80% (s=0.8) it will choose as plagiarized articles          \n",
    "            if minhash_similarity(i, j, minhash_sigmat, list_of_documentid) > 0.8:\n",
    "                \n",
    "                similar = (i,j)\n",
    "                similar_docs.append(similar)\n",
    "                \n",
    "    return similar_docs   \n",
    "\n"
   ]
  },
  {
   "cell_type": "code",
   "execution_count": null,
   "metadata": {},
   "outputs": [],
   "source": [
    "%%time\n",
    "k=10\n",
    "num_hashes=50\n",
    "threshold=0.8\n",
    "file_name=\"C:/Users/Andria.m/Desktop/LSH test/Plagiarism_Detector-LSH/Our Data/News_1000.txt\"\n",
    "similar_docs= find_Similar_docs (file_name,k,num_hashes,threshold)\n",
    "similar_docs\n",
    "\n",
    "# Write plagiarized articles to a file\n",
    "with open('plagiarized articles.txt', 'w+') as fp:\n",
    "    fp.write('Similarity between documents using the Jaccard distance: \\n')\n",
    "    for sims in similar_docs:\n",
    "        fp.write('\\t'.join('%s' % s for s in sims))\n",
    "        fp.write('')\n",
    "        fp.write('\\n')\n",
    "fp.close()"
   ]
  },
  {
   "cell_type": "markdown",
   "metadata": {},
   "source": [
    "## 4.7 LSH Specificity Sensitivity"
   ]
  },
  {
   "cell_type": "markdown",
   "metadata": {},
   "source": [
    "### This class implemented with help of this references \n",
    "- https://github.com/ck-chaudhary/LSH/blob/master/lab4.ipynb\n",
    "- https://github.com/Pankajdeer/Plagiarism-Detection/blob/main/Plagirism%20Detection%20using%20python.ipynb\n",
    "- https://github.com/elhamsharifi\n",
    "\n",
    "Sensitivity: is ratio of true positive to the whole positive\n",
    "\n",
    "Specificity: is the ratio of false positive to the whole negative\n"
   ]
  },
  {
   "cell_type": "code",
   "execution_count": 78,
   "metadata": {},
   "outputs": [],
   "source": [
    "sensitivity = []\n",
    "specificity = [] \n",
    "false_positive = []\n",
    "\n",
    "# computing the false positive, false negative, true positive.\n",
    "# computing the sensitivity and specificity of LSH  based on the threshold. \n",
    "# candidate pairs and plagiarized articles are used  \n",
    "\n",
    "# TP = true positive\n",
    "# FP = false positive\n",
    "# FN = false negative\n",
    "\n",
    "def LSH_specificity_sensitivity (file1 , file2 , k , num_hashes):\n",
    "\n",
    "    plagiarized_instances,_= plagiarized_non_plagiarized_instances(file1, file1)\n",
    "\n",
    "    shingles= shingles_of_documents(file1,k)\n",
    "    minhash_sigmat,list_of_documentid=make_minhash_signature(shingles, num_hashes)\n",
    "    \n",
    "#   threshold is ranging from 0.2 to 1 in 0.2 steps\n",
    "    for threshold in np.arange(0.2,1,0.2):\n",
    "        \n",
    "        ## False Negatives\n",
    "    #   FN=[]\n",
    "    #   for file in list(bucket.keys()):\n",
    "    \n",
    "#         if file in list(bucket.keys()):\n",
    "#               continue\n",
    "#             else: \n",
    "#                   FN.append(file)\n",
    "#         print(\"false negtive's count: \", len(FN))\n",
    "        \n",
    "    \n",
    "    \n",
    "#        cheking the buckets\n",
    "        buckets= Locality_sensitive_hashing(minhash_sigmat, num_hashes, list_of_documentid, threshold)\n",
    "        \n",
    "#       retrieving candidate lists\n",
    "        candidate_list = Candidate_Similar_Docs(buckets)\n",
    "        \n",
    "        # retrieved and relevant\n",
    "        TP = len ( set (candidate_list).intersection (set (plagiarized_instances)))\n",
    "       \n",
    "        # false positive(retrieved and not-relevant) - True positive\n",
    "        FP = len(candidate_list) - TP\n",
    "        \n",
    "#       false negative(not-retrieved and relevant) - True positive\n",
    "        FN =len(plagiarized_instances)-TP\n",
    "        \n",
    "        all_negative = (len(list_of_documentid))**2 - len(candidate_list)\n",
    "        \n",
    "        all_positive = len (candidate_list)\n",
    "        \n",
    "        # by definition Sensitivity: is ratio of true positive to the whole positive\n",
    "        Sensitivity_ratio = (1.0 * TP) / all_positive\n",
    "        \n",
    "        # by definition Specificity: is the ratio of false positive to the whole negative\n",
    "        Specificity_ratio = (1.0 * FP)/all_negative\n",
    "        \n",
    "        \n",
    "        sensitivity.append(Sensitivity_ratio)\n",
    "        specificity.append(Specificity_ratio)\n",
    "                                \n",
    "    return sensitivity, specificity\n"
   ]
  },
  {
   "cell_type": "code",
   "execution_count": null,
   "metadata": {},
   "outputs": [],
   "source": [
    "%%time\n",
    "k=10\n",
    "num_hashes=50\n",
    "file_name1=\"C:/Users/Andria.m/Desktop/LSH test/Plagiarism_Detector-LSH/Our Data/News_1000.txt\"\n",
    "file_name2=\"C:/Users/Andria.m/Desktop/LSH test/Plagiarism_Detector-LSH/Our Data/Candidate pairs.txt\"\n",
    "sensitivity, specificity = LSH_specificity_sensitivity (file1, file2, k, num_hashes)"
   ]
  },
  {
   "cell_type": "markdown",
   "metadata": {},
   "source": [
    "#### Run the Min Hash algorithm on different size files, count their response time and write output to a file"
   ]
  },
  {
   "cell_type": "code",
   "execution_count": null,
   "metadata": {},
   "outputs": [],
   "source": [
    "plt.plot(np.arange(0.2,1,0.2),sensitivity)    \n",
    "plt.plot(np.arange(0.2,1,0.2),specificity) \n",
    "\n",
    "plt.legend(['LSH Sensitivity', 'LSH Specificity'],loc=1)\n",
    "\n",
    "plt.xlabel('Threshhold t')\n",
    "plt.ylabel('Percentage of Sensitivity and Specificity')\n",
    "\n",
    "plt.title('LSH Sensitivity and Specificity vs. Threshhold')\n",
    "\n",
    "plt.xlim(0,1)"
   ]
  },
  {
   "cell_type": "code",
   "execution_count": 123,
   "metadata": {},
   "outputs": [],
   "source": []
  },
  {
   "cell_type": "code",
   "execution_count": null,
   "metadata": {},
   "outputs": [],
   "source": []
  },
  {
   "cell_type": "markdown",
   "metadata": {},
   "source": [
    "## References\n",
    "\n",
    "- https://medium.com/analytics-vidhya/locality-sensitive-hashing-finding-documents-similarity-6f12d4d83af\n",
    "- https://www.researchgate.net/publication/291225480_Locality-Sensitive_Hashing_Techniques_for_Nearest_Neighbor_Search\n",
    "- http://www.cs.uoi.gr/~tsap/teaching/2016-cse012/slides/datamining-lect5.pdf\n",
    "- https://github.com/CostasPitharoulios/Plagiarism_Detector/blob/master/Jupyter_Notebook/PlagiarismsDetector.ipynb\n",
    "- https://cse.iitkgp.ac.in/~animeshm/algoml/lsh.pdf\n",
    "- https://github.com/himalayanZephyr/finding_similar_documents/blob/master/similar_items.ipynb\n",
    "- https://www.learndatasci.com/tutorials/building-recommendation-engine-locality-sensitive-hashing-lsh-python/\n",
    "- https://cse.iitkgp.ac.in/~sourangshu/coursefiles/SDM18A/07-LSH-1.pdf\n",
    "- https://github.com/elhamsharifi?tab=repositories\n",
    "- https://unboxresearch.com/articles/lsh_post1.html\n",
    "- https://github.com/vgole001/Count-Distinct-Items-using-Min-Hash-and-LSH/blob/master/MinHash_LSH.ipynb\n",
    "- https://towardsdatascience.com/understanding-locality-sensitive-hashing-49f6d1f6134\n",
    "- https://github.com/Pankajdeer/Plagiarism-Detection/blob/main/Plagirism%20Detection%20using%20python.ipynb\n",
    "- https://www.sciencedirect.com/science/article/abs/pii/S0957417418300149\n",
    "- https://github.com/davidtag/cs166-project/blob/master/Experiment_Starter.ipynb\n",
    "- https://www.researchgate.net/publication/291225480_Locality-Sensitive_Hashing_Techniques_for_Nearest_Neighbor_Search\n",
    "- https://github.com/pyt243/IR-LSH\n"
   ]
  },
  {
   "cell_type": "code",
   "execution_count": null,
   "metadata": {},
   "outputs": [],
   "source": []
  }
 ],
 "metadata": {
  "kernelspec": {
   "display_name": "Python 3",
   "language": "python",
   "name": "python3"
  },
  "language_info": {
   "codemirror_mode": {
    "name": "ipython",
    "version": 3
   },
   "file_extension": ".py",
   "mimetype": "text/x-python",
   "name": "python",
   "nbconvert_exporter": "python",
   "pygments_lexer": "ipython3",
   "version": "3.7.6"
  }
 },
 "nbformat": 4,
 "nbformat_minor": 4
}
