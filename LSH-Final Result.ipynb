{
 "cells": [
  {
   "cell_type": "markdown",
   "metadata": {},
   "source": [
    "# Plagiarism Detector"
   ]
  },
  {
   "cell_type": "markdown",
   "metadata": {},
   "source": [
    "### Shingling + Jaccard Similarity + MiniHash was provided by:\n",
    "- https://github.com/vgole001/Count-Distinct-Items-using-Min-Hash-and-LSH/blob/master/MinHash_LSH.ipynb\n",
    "- https://github.com/daanknoors/LSH/blob/master/ItemSimilarity.py\n",
    "- https://github.com/Pankajdeer/Plagiarism-Detection/blob/main/Plagirism%20Detection%20using%20python.ipynb\n",
    "\n",
    "We changed some of the stuffs and tried not use their exact code, however, you mentioned that we can use the already implemented classes for Shingling + Jaccard Similarity + MiniHash"
   ]
  },
  {
   "cell_type": "code",
   "execution_count": 17,
   "metadata": {},
   "outputs": [],
   "source": [
    "from tqdm import tqdm, trange, tqdm_notebook # Printing progress bar\n",
    "import json\n",
    "import numpy as np\n",
    "import binascii\n",
    "from time import time\n",
    "from time import sleep\n",
    "from tqdm import tqdm\n",
    "import pandas as pd\n",
    "import string\n",
    "from collections import defaultdict\n",
    "from matplotlib.ticker import FuncFormatter\n",
    "import matplotlib.pyplot as plt\n",
    "import random\n",
    "import re\n"
   ]
  },
  {
   "cell_type": "markdown",
   "metadata": {},
   "source": [
    "### Helper Functions"
   ]
  },
  {
   "cell_type": "code",
   "execution_count": 18,
   "metadata": {},
   "outputs": [],
   "source": [
    "\n",
    "# Calculate the Jaccard similarity of 2 sets\n",
    "def jaccardSim(s1,s2):\n",
    "    s1 = set(s1)\n",
    "    s2 = set(s2)\n",
    "    return (len(s1.intersection(s2)) / len(s1.union(s2)))\n",
    "\n",
    "\n",
    "# Return a random hash function from a universal family\n",
    "# p = prime number > m\n",
    "def make_random_hash_function(p=2**33-355, m=2**32-1):\n",
    "    a = random.randint(1,p-1)\n",
    "    b = random.randint(0, p-1)\n",
    "    return lambda x: ((a * x + b) % p) % m"
   ]
  },
  {
   "cell_type": "code",
   "execution_count": 30,
   "metadata": {},
   "outputs": [
    {
     "name": "stdout",
     "output_type": "stream",
     "text": [
      "     News_ID                                            article\n",
      "0          0  The Supreme Court in Johnnesberg on Friday pos...\n",
      "1          1  The IG Metall union has decided not to spread ...\n",
      "2          2  Malaysia said Friday it had no plans to overre...\n",
      "3          3  South Korea is redoubling its efforts behind K...\n",
      "4          4  The Philippine subsidiary of US telecommunicat...\n",
      "..       ...                                                ...\n",
      "995      995  Shares here fell early on Friday as dealers to...\n",
      "996      996  Forty-five thousand Rwandan refugees were on t...\n",
      "997      997  Australian shares closed sharply higher on Fri...\n",
      "998      998  The president of the Long-Term Credit Bank of ...\n",
      "999      999  The Shanghai-based China Foreign Exchange Trad...\n",
      "\n",
      "[1000 rows x 2 columns]\n",
      "\n",
      "Wall time: 32 ms\n"
     ]
    }
   ],
   "source": [
    "%%time\n",
    "\n",
    "News_ID = pd.read_csv(\"C:/Users/Andria.m/Desktop/LSH test/Plagiarism_Detector-LSH/Provided Data/news_articles_small.csv\")\n",
    "print(News_ID )\n",
    "\n",
    "print(\"\")\n",
    "filename = \"C:/Users/Andria.m/Desktop/LSH test/Plagiarism_Detector-LSH/Provided Data/news_articles_small.txt\"\n",
    "\n"
   ]
  },
  {
   "cell_type": "markdown",
   "metadata": {},
   "source": [
    "## Read input file and preprocess data\n",
    "- reading all of the words (they are all in one line) and split them by white space.\n",
    "- retrieve the article ID which is the first column in the file.\n",
    "- converting words to lowercase, and removing any tabs, new lines, e.t.c"
   ]
  },
  {
   "cell_type": "code",
   "execution_count": 550,
   "metadata": {},
   "outputs": [],
   "source": [
    "#Read input file and preprocess data\n",
    "%%time\n",
    "class Parser():\n",
    "    def parse_input_file(self, filename):\n",
    "        data_list = []\n",
    "        with open(filename) as ff:\n",
    "            contents = ff.readlines()\n",
    "            for line in contents:\n",
    "                doc_id_word = ()\n",
    "                # read all of the words (they are all in one line) and split them by white space\n",
    "                words = line.split(\" \")\n",
    "#                print(words)\n",
    "                # retrieve the article ID which is the first word on the line\n",
    "                docID = words[0]\n",
    "#                 print(docID)\n",
    "                del(words[0])\n",
    "\n",
    "                word_list = []\n",
    "                for word in words:\n",
    "                    # make words lowercase\n",
    "                    word = word.lower()\n",
    "                    # remove any tabs, new lines, e.t.c\n",
    "                    word = re.sub(r'[^\\w]','',word)\n",
    "                    word_list.append(word)\n",
    "                word_list = ''.join(word_list)\n",
    "                doc_id_word = (docID,word_list)\n",
    "                data_list.append(doc_id_word)\n",
    "            return data_list\n",
    "        "
   ]
  },
  {
   "cell_type": "code",
   "execution_count": 551,
   "metadata": {},
   "outputs": [],
   "source": [
    "parser = Parser()\n",
    "data = parser.parse_input_file(filename)\n",
    "# print(data)"
   ]
  },
  {
   "cell_type": "code",
   "execution_count": 552,
   "metadata": {},
   "outputs": [],
   "source": [
    "# Create proper data structures for our data\n",
    "hash_num = 50\n",
    "shingles_len = 10"
   ]
  },
  {
   "cell_type": "markdown",
   "metadata": {},
   "source": [
    "### Shingling + Jaccard Similarity + MiniHash "
   ]
  },
  {
   "cell_type": "code",
   "execution_count": 554,
   "metadata": {},
   "outputs": [],
   "source": [
    "%%time\n",
    "class ProcessData():\n",
    "    def map_doc_id(self, docIds):\n",
    "        docIdMap = {}\n",
    "        for i in range(0, len(docIds)):\n",
    "            docIdMap[docIds[i]] = i\n",
    "        return docIdMap\n",
    "\n",
    "    \n",
    "    \n",
    "    \n",
    "    def invert_shingles(self,tuples,ids):\n",
    "        # Compute the hash value for each of our word in document\n",
    "        shingles_list= list()\n",
    "        for d in data:\n",
    "            hash_shingles = set()\n",
    "            for i in range(0, len(d[1]) - shingles_len + 1):\n",
    "                hash_value = binascii.crc32(d[1][i: i + shingles_len].encode('utf-8')) & 0xffffffff\n",
    "                hash_shingles.add(hash_value)\n",
    "            shingles_list.append((d[0],hash_shingles))\n",
    "    \n",
    "        # Invert shingles so shingles become rows and docId's become columns\n",
    "        for row in shingles_list:\n",
    "            ids.append(row[0])\n",
    "            for s in row[1]:\n",
    "                tuples.append((s,row[0]))\n",
    "        return tuples,ids\n",
    "        print(tuples)\n",
    "    \n",
    "    \n",
    "    \n",
    "    \n",
    "    def add_hash_functions(self):\n",
    "        hash_funcs = []\n",
    "        # Make hash functions\n",
    "        for i in range(0, hash_num):\n",
    "            hash_funcs.append(make_random_hash_function())\n",
    "        return hash_funcs\n",
    "    \n",
    "    \n",
    "    \n",
    "    \n",
    "    def calc_signature_matrix(self, num_docs):\n",
    "        tuples = []\n",
    "        ids = []\n",
    "        hash_funcs = []\n",
    "        tuples,ids = self.invert_shingles(tuples,ids)\n",
    "        hash_funcs = self.add_hash_functions()\n",
    "         # Initialize signature matrix values to infinity\n",
    "        sigmatrix = np.full([hash_num, num_docs], np.inf)\n",
    "        \n",
    "        print('sigmatrix shape: ',sigmatrix.shape)\n",
    "        doc_id_col_map = self.map_doc_id(ids)\n",
    "        \n",
    "        \n",
    "\n",
    "        # Update signature matrix values\n",
    "        row = 0\n",
    "        for item, id in tuples:\n",
    "            j = doc_id_col_map[id]\n",
    "            for n in range(0, len(hash_funcs)):\n",
    "                sigmatrix[n][j]= min(hash_funcs[n](item), sigmatrix[n][j])\n",
    "        return sigmatrix, doc_id_col_map\n",
    "    \n",
    "    "
   ]
  },
  {
   "cell_type": "markdown",
   "metadata": {},
   "source": [
    "## Min Hash Similarity Class\n",
    "Compute similarity for signature matrix based on jaccard similarity\n",
    "\n",
    "Compute Jaccard similarity \n",
    "In this section we will compute Jaccard similarity for shingles with the utility function for later comparison with MinHash and LSH accuracy. The [Jaccard similarity](https://en.wikipedia.org/wiki/Jaccard_index) is defined as: \n",
    "$$ J(A,B)={{|A\\cap B|} \\over {|A\\cup B|}}={{|A\\cap B|} \\over {|A|+|B|-|A\\cap B|}}. $$\n",
    "\n",
    "Therefore, two documents $A$ and $B$ will be similar is they have common shingles."
   ]
  },
  {
   "cell_type": "code",
   "execution_count": 560,
   "metadata": {},
   "outputs": [],
   "source": [
    "%%time\n",
    "# Min Hash Similarity Class\n",
    "class MinHashSimilarity():  \n",
    "    def CalculateSimilarity(self, num_docs):\n",
    "        preprocess = ProcessData()\n",
    "    \n",
    "        sigmatrix,doc_id_col_map = preprocess.calc_signature_matrix(num_docs)\n",
    "        \n",
    "        # Compute similarity for signature matrix based on jaccard similarity\n",
    "        sim_sets = []\n",
    "        sigmatrix = np.array(sigmatrix)\n",
    "        for i in range(0, sigmatrix.shape[1]-1):\n",
    "            s1 = sigmatrix[:,i]\n",
    "            for j in range(i + 1, sigmatrix.shape[1]):\n",
    "                s2 = sigmatrix[:,j]\n",
    "                sim = jaccardSim(s1,s2)\n",
    "                \n",
    "                \n",
    "                if sim > 0.8:\n",
    "                    d1Str = list(doc_id_col_map.keys())[i]\n",
    "                    d2Str = list(doc_id_col_map.keys())[j]\n",
    "                    sim_sets.append((d1Str,d2Str,round(sim,4)))\n",
    "#                   print(sim_sets)\n",
    "        return sim_sets\n",
    "        "
   ]
  },
  {
   "cell_type": "code",
   "execution_count": 561,
   "metadata": {},
   "outputs": [
    {
     "name": "stdout",
     "output_type": "stream",
     "text": [
      "\n",
      "1000\n",
      "sigmatrix shape:  (21, 1000)\n",
      "1_IDs   2_IDs\n",
      "103 \t 205 \t 0.9091 \t \n",
      "122 \t 523 \t 1.0 \t \n",
      "151 \t 480 \t 1.0 \t \n",
      "197 \t 544 \t 1.0 \t \n",
      "198 \t 373 \t 1.0 \t \n",
      "264 \t 880 \t 1.0 \t \n",
      "282 \t 918 \t 0.9091 \t \n",
      "289 \t 746 \t 1.0 \t \n",
      "332 \t 802 \t 1.0 \t \n",
      "372 \t 774 \t 1.0 \t \n",
      "Wall time: 2min 10s\n"
     ]
    }
   ],
   "source": [
    "%%time\n",
    "print(\"\")\n",
    "# Run the Min Hash algorithm on different size files, count their response time and write output to a file\n",
    "min_hash_similarity = MinHashSimilarity()\n",
    "start_time = time()\n",
    "\n",
    "num_of_doc = (len(data))\n",
    "print(num_of_doc)\n",
    "\n",
    "similarities = min_hash_similarity.CalculateSimilarity(len(data))\n",
    "end_time = time()\n",
    "est_time = end_time - start_time\n",
    "print(\"1_IDs \",\" 2_IDs\" )\n",
    "for x in similarities:\n",
    "    for y in x:\n",
    "        \n",
    "        print(y, end=' \\t ')\n",
    "    print()"
   ]
  },
  {
   "cell_type": "code",
   "execution_count": 562,
   "metadata": {},
   "outputs": [
    {
     "name": "stdout",
     "output_type": "stream",
     "text": [
      "[('103', '205', 0.9091), ('122', '523', 1.0), ('151', '480', 1.0), ('197', '544', 1.0), ('198', '373', 1.0), ('264', '880', 1.0), ('282', '918', 0.9091), ('289', '746', 1.0), ('332', '802', 1.0), ('372', '774', 1.0)]\n"
     ]
    }
   ],
   "source": [
    "print(similarities)"
   ]
  },
  {
   "cell_type": "code",
   "execution_count": 563,
   "metadata": {},
   "outputs": [
    {
     "name": "stdout",
     "output_type": "stream",
     "text": [
      "Execution time for 1000 articles: 2.167670 minutes\n",
      "1_IDs   2_IDs  Similarities\n",
      "----------------------------------------------------\n",
      "103\t 205\t 0.9091\n",
      "----------------------------------------------------\n",
      "122\t 523\t 1.0\n",
      "----------------------------------------------------\n",
      "151\t 480\t 1.0\n",
      "----------------------------------------------------\n",
      "197\t 544\t 1.0\n",
      "----------------------------------------------------\n",
      "198\t 373\t 1.0\n",
      "----------------------------------------------------\n",
      "264\t 880\t 1.0\n",
      "----------------------------------------------------\n",
      "282\t 918\t 0.9091\n",
      "----------------------------------------------------\n",
      "289\t 746\t 1.0\n",
      "----------------------------------------------------\n",
      "332\t 802\t 1.0\n",
      "----------------------------------------------------\n",
      "372\t 774\t 1.0\n"
     ]
    }
   ],
   "source": [
    "\n",
    "if est_time > 60.0:\n",
    "    print('Execution time for %d articles: %f minutes'%(len(data),est_time/60.0))\n",
    "else:\n",
    "    print('Execution time for %d articles: %f seconds'%(len(data),est_time))\n",
    "    print()\n",
    "\n",
    "print(\"1_IDs   2_IDs  Similarities\")\n",
    "for sims in similarities:\n",
    "   \n",
    "    print(\"----------------------------------------------------\")\n",
    "    print('\\t '.join('%s' % s for s in sims))\n",
    "    "
   ]
  },
  {
   "cell_type": "code",
   "execution_count": 540,
   "metadata": {},
   "outputs": [],
   "source": [
    "# Write similar pair documents to a file\n",
    "with open('Jaccard_Similar_Documents.txt', 'w+') as fp:\n",
    "    fp.write('Similarity between documents using the MinHash Method: \\n')\n",
    "    for sims in similarities:\n",
    "        fp.write('\\t'.join('%s' % s for s in sims))\n",
    "        fp.write('')\n",
    "        fp.write('\\n')\n",
    "fp.close()\n"
   ]
  },
  {
   "cell_type": "code",
   "execution_count": null,
   "metadata": {},
   "outputs": [],
   "source": []
  },
  {
   "cell_type": "code",
   "execution_count": null,
   "metadata": {},
   "outputs": [],
   "source": []
  },
  {
   "cell_type": "code",
   "execution_count": 16,
   "metadata": {},
   "outputs": [
    {
     "name": "stdout",
     "output_type": "stream",
     "text": [
      "Bands num:  10 , rows/band:  5 , threshold s:  0.8\n",
      "Prob. that at least 1 band is identical:  0.9811\n",
      "-------------------------------------------------------------\n",
      "Chanse of False Negative in 80% Similarity:  0.0189  =>  1.887 %\n",
      "\n",
      "Chanse of False Positive in 50% Similarity:  0.272  =>  27.2 %\n",
      "\n"
     ]
    }
   ],
   "source": [
    "# Files for Localiry Sensitive Hashing Similarity Part\n",
    "# 1-(1-0.80^r)^b = 0.99\n",
    "\n",
    "shingles_len = 10\n",
    "hash_num = 50\n",
    "bands_num = 10\n",
    "rows = int(hash_num / bands_num)\n",
    "# s = (1/bands_num)**(1/rows)\n",
    "s = 0.80\n",
    "\n",
    "print(\"Bands num: \",bands_num,', rows/band: ',rows,\", threshold s: \",s)\n",
    "a=s**rows\n",
    "x=(1-a)**bands_num\n",
    "prob=round(1-x,4)\n",
    "print(\"Prob. that at least 1 band is identical: \",prob)\n",
    "print(\"-------------------------------------------------------------\")\n",
    "print(\"Chanse of False Negative in 80% Similarity: \",round(x,4),\" => \",round(100*x,3),\"%\")\n",
    "print()\n",
    "\n",
    "s1=0.5\n",
    "a=s1**rows\n",
    "x=(1-a)**bands_num\n",
    "prob2=round(1-x,4)\n",
    "print(\"Chanse of False Positive in 50% Similarity: \",round(prob2,4),\" => \",round(100*prob2,3),\"%\")\n",
    "print()\n"
   ]
  },
  {
   "cell_type": "code",
   "execution_count": null,
   "metadata": {},
   "outputs": [],
   "source": []
  },
  {
   "cell_type": "code",
   "execution_count": 26,
   "metadata": {},
   "outputs": [
    {
     "data": {
      "text/plain": [
       "<matplotlib.lines.Line2D at 0x263ae91dec8>"
      ]
     },
     "execution_count": 26,
     "metadata": {},
     "output_type": "execute_result"
    },
    {
     "data": {
      "image/png": "[encoded data removed]",
      "text/plain": [
       "<Figure size 432x288 with 1 Axes>"
      ]
     },
     "metadata": {
      "needs_background": "light"
     },
     "output_type": "display_data"
    }
   ],
   "source": [
    "# b=[2,50,10,5,20,50,20]\n",
    "# r=[50,2,10,20,5,20,50]\n",
    "\n",
    "\n",
    "thresh = np.arange(0,1.0,0.005)\n",
    "br_lst = [(10,3),(50,2),(10,10),(5,20),(20,6),(12,10)]\n",
    "ax = None\n",
    "for k in br_lst:\n",
    "  p=[];b=k[0];r=k[1]\n",
    "  for t in thresh:\n",
    "    p.append(1-(1-(t**b))**r)\n",
    "    \n",
    "  df = pd.DataFrame({'Column1':p, 'Column2':thresh})\n",
    "  ax = df.plot(ax=ax,x='Column2',y='Column1')\n",
    "ax.axvline(x=0.8,color='r')\n",
    "ax.axhline(y=0.9,color='b')\n",
    "#   plt.rcParams['figure.figsize'] = [12,12]"
   ]
  },
  {
   "cell_type": "markdown",
   "metadata": {},
   "source": [
    "## Locality Sensitive Hashing \n",
    "Implemented based on the LSH class in the LSH-TEST"
   ]
  },
  {
   "cell_type": "code",
   "execution_count": 544,
   "metadata": {},
   "outputs": [],
   "source": [
    "import scipy as opt\n",
    "\n",
    "shingles_len = 10\n",
    "hash_num = 50\n",
    "bands_num = 10\n",
    "rows = int(hash_num / bands_num)\n",
    "# s = (1/bands_num)**(1/rows)\n",
    "s = 0.80\n",
    "\n",
    "\n",
    "\n",
    "class LSHSimilarity():\n",
    "    def __init__(self, num_docs):\n",
    "        self.num_docs = num_docs\n",
    "        \n",
    "        \n",
    "#     same as the previous one \n",
    "    def hash_vector(self, hash_fnctions, vector , m = 2**32-1):\n",
    "        sum = 0\n",
    "        for i in range(len(vector)):\n",
    "            h = hash_fnctions[i]\n",
    "            sum += h(vector[i])\n",
    "        return sum % m\n",
    "\n",
    "    \n",
    "    \n",
    "    def CalculateSimilarity(self, sigmatrix):\n",
    "        \n",
    "        \n",
    "        preprocess = ProcessData()\n",
    "        hash_funcs = preprocess.add_hash_functions()\n",
    "        sigmatrix, doc_id_col_map = preprocess.calc_signature_matrix(self.num_docs)\n",
    "        \n",
    "        \n",
    "        # Compute similarity for signature matrix based on jaccard similarity\n",
    "        sim_sets = []\n",
    "        sigmatrix = np.array(sigmatrix)\n",
    "\n",
    "#         error_fun = lambda x: (threshold-((1/x[0])**(x[0]/hash_num)))**2\n",
    "#         res = opt.minimize(error_fun, x0=(10), method='Nelder-Mead')\n",
    "#         bands_num = int(math.ceil(res['x'][0]))\n",
    "\n",
    "        # Initialize the number of bands and threshold\n",
    "#         bands_num = 8\n",
    "#         print(bands_num)\n",
    "\n",
    "        # Calculate number of rows needed for each band\n",
    "#         rows = int(hash_num / bands_num)\n",
    "\n",
    "#        s = pow((1/bands_num),1/rows)\n",
    "#         s = (1/bands_num)**(1/rows)\n",
    "#         print('rows threshold: ',rows,\" threshold s:\",s)\n",
    "        \n",
    "    \n",
    "        buckets = []\n",
    "        bucket_dic = defaultdict(list)\n",
    "\n",
    "        pairs = set()\n",
    "\n",
    "        for r in range(bands_num):\n",
    "            start_row = r * rows\n",
    "            end_row = start_row + rows\n",
    "\n",
    "            for doc in range(self.num_docs):\n",
    "                hash_vec = self.hash_vector(hash_funcs,sigmatrix[start_row:end_row,doc])\n",
    "                bucket_dic[hash_vec].append(doc)\n",
    "                #print('bucket',bucket_dic.items())\n",
    "\n",
    "        for item, value in bucket_dic.items():\n",
    "            if len(value) > 1:\n",
    "                pairs.add(tuple(value))\n",
    "\n",
    "        sim_docs = []\n",
    "        for s in pairs:\n",
    "            d1 = list(doc_id_col_map.keys())[s[0]]\n",
    "            d2 = list(doc_id_col_map.keys())[s[1]]\n",
    "            sim_docs.append((d1,d2))\n",
    "\n",
    "        # Get candidate pairs that hash to the same bucket at least once\n",
    "        return sim_docs\n",
    "    "
   ]
  },
  {
   "cell_type": "code",
   "execution_count": 545,
   "metadata": {},
   "outputs": [
    {
     "name": "stdout",
     "output_type": "stream",
     "text": [
      "\n",
      "sigmatrix shape:  (21, 1000)\n",
      "Execution time for 1000 articles: 1.018728 minutes\n",
      "Wall time: 1min 1s\n"
     ]
    }
   ],
   "source": [
    "%%time\n",
    "print()\n",
    "sigmatrix = []\n",
    "start_time = time()\n",
    "lsh_similarity = LSHSimilarity(len(data))\n",
    "similarities = lsh_similarity.CalculateSimilarity(sigmatrix)\n",
    "end_time = time()\n",
    "est_time = end_time - start_time\n",
    "if est_time > 60.0:\n",
    "    print('Execution time for %d articles: %f minutes'%(len(data),est_time/60.0))\n",
    "else:\n",
    "    print('Execution time for %d articles: %f seconds'%(len(data),est_time))"
   ]
  },
  {
   "cell_type": "code",
   "execution_count": 546,
   "metadata": {},
   "outputs": [],
   "source": [
    "# Write similar pair documents to a file\n",
    "with open('LSH_Similar_Pairs.txt', 'w+') as fp:\n",
    "    fp.write('Similarity between documents using the LSH Method: \\n')\n",
    "    for sims in similarities:\n",
    "        fp.write('\\t'.join('%s' % s for s in sims))\n",
    "        fp.write('')\n",
    "        fp.write('\\n')\n",
    "fp.close()"
   ]
  },
  {
   "cell_type": "code",
   "execution_count": 28,
   "metadata": {},
   "outputs": [
    {
     "data": {
      "image/png": "[encoded data removed]",
      "text/plain": [
       "<Figure size 432x288 with 1 Axes>"
      ]
     },
     "metadata": {
      "needs_background": "light"
     },
     "output_type": "display_data"
    }
   ],
   "source": [
    "prob = []\n",
    "sim = [x for x in np.arange(0.2, 1.0, 0.01)]\n",
    "for s in sim:\n",
    "    prob.append((1-pow((1-pow(s,r)),b)))\n",
    "\n",
    "x = sim\n",
    "y = prob\n",
    "\n",
    "fig, ax = plt.subplots()\n",
    "ax.scatter(x, y, label='data_noisy')\n",
    "ax.set_title('estimated Jaccard')\n",
    "ax.set_xlabel('Similarity') \n",
    "ax.set_ylabel('Probability')\n",
    "ax.grid()\n",
    "leg = ax.legend()\n",
    "\n",
    "plt.show()\n",
    "# plt.rcParams['figure.figsize'] = [10,10]"
   ]
  },
  {
   "cell_type": "markdown",
   "metadata": {},
   "source": [
    "## References\n",
    "\n",
    "- https://medium.com/analytics-vidhya/locality-sensitive-hashing-finding-documents-similarity-6f12d4d83af\n",
    "- https://www.researchgate.net/publication/291225480_Locality-Sensitive_Hashing_Techniques_for_Nearest_Neighbor_Search\n",
    "- http://www.cs.uoi.gr/~tsap/teaching/2016-cse012/slides/datamining-lect5.pdf\n",
    "- https://github.com/CostasPitharoulios/Plagiarism_Detector/blob/master/Jupyter_Notebook/PlagiarismsDetector.ipynb\n",
    "- https://cse.iitkgp.ac.in/~animeshm/algoml/lsh.pdf\n",
    "- https://github.com/himalayanZephyr/finding_similar_documents/blob/master/similar_items.ipynb\n",
    "- https://www.learndatasci.com/tutorials/building-recommendation-engine-locality-sensitive-hashing-lsh-python/\n",
    "- https://cse.iitkgp.ac.in/~sourangshu/coursefiles/SDM18A/07-LSH-1.pdf\n",
    "- https://github.com/elhamsharifi?tab=repositories\n",
    "- https://unboxresearch.com/articles/lsh_post1.html\n",
    "- https://github.com/vgole001/Count-Distinct-Items-using-Min-Hash-and-LSH/blob/master/MinHash_LSH.ipynb\n",
    "- https://towardsdatascience.com/understanding-locality-sensitive-hashing-49f6d1f6134\n",
    "- https://github.com/Pankajdeer/Plagiarism-Detection/blob/main/Plagirism%20Detection%20using%20python.ipynb\n",
    "- https://www.sciencedirect.com/science/article/abs/pii/S0957417418300149\n",
    "- https://github.com/davidtag/cs166-project/blob/master/Experiment_Starter.ipynb\n",
    "- https://www.researchgate.net/publication/291225480_Locality-Sensitive_Hashing_Techniques_for_Nearest_Neighbor_Search\n",
    "- https://github.com/pyt243/IR-LSH\n"
   ]
  },
  {
   "cell_type": "code",
   "execution_count": null,
   "metadata": {},
   "outputs": [],
   "source": []
  },
  {
   "cell_type": "code",
   "execution_count": null,
   "metadata": {},
   "outputs": [],
   "source": []
  },
  {
   "cell_type": "code",
   "execution_count": null,
   "metadata": {},
   "outputs": [],
   "source": []
  }
 ],
 "metadata": {
  "kernelspec": {
   "display_name": "Python 3",
   "language": "python",
   "name": "python3"
  },
  "language_info": {
   "codemirror_mode": {
    "name": "ipython",
    "version": 3
   },
   "file_extension": ".py",
   "mimetype": "text/x-python",
   "name": "python",
   "nbconvert_exporter": "python",
   "pygments_lexer": "ipython3",
   "version": "3.7.6"
  }
 },
 "nbformat": 4,
 "nbformat_minor": 4
}
